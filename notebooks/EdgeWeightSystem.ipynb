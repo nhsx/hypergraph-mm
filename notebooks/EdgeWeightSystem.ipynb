{
 "cells": [
  {
   "cell_type": "code",
   "execution_count": null,
   "metadata": {},
   "outputs": [],
   "source": [
    "import os\n",
    "\n",
    "print(os.getcwd())\n",
    "os.chdir('../src/')\n",
    "print(os.getcwd())"
   ]
  },
  {
   "cell_type": "code",
   "execution_count": null,
   "metadata": {},
   "outputs": [],
   "source": [
    "from build_tests import _build_test_case\n",
    "from hyperedge_weights import (\n",
    "    _comp_overlap_coeff,\n",
    "    _modified_dice_coefficient_comp,\n",
    "    _modified_dice_coefficient_pwset,\n",
    ")\n",
    "from run_tests import _run_test_case"
   ]
  },
  {
   "cell_type": "markdown",
   "metadata": {},
   "source": [
    "### Run Test Cases"
   ]
  },
  {
   "cell_type": "code",
   "execution_count": null,
   "metadata": {
    "scrolled": false
   },
   "outputs": [],
   "source": [
    "output = _build_test_case(\n",
    "    N_obs=11, \n",
    "    N_cols=3, \n",
    "    test_type=3, \n",
    "    random_duplicates=False, \n",
    "    incl_end=False, \n",
    "    seed=0\n",
    ")\n",
    "\n",
    "(\n",
    "    binmat, \n",
    "    conds_worklist, \n",
    "    idx_worklist, \n",
    "    colarr, \n",
    "    end_prog, \n",
    "    n_died\n",
    ") = output\n",
    "\n",
    "print(binmat)\n",
    "print()\n",
    "print(conds_worklist)\n",
    "print()\n",
    "print(idx_worklist)"
   ]
  },
  {
   "cell_type": "code",
   "execution_count": null,
   "metadata": {
    "scrolled": false
   },
   "outputs": [],
   "source": [
    "_run_test_case(\n",
    "    test_binmat=binmat, \n",
    "    test_conds_worklist=conds_worklist, \n",
    "    test_idx_worklist=idx_worklist, \n",
    "    end_prog=end_prog,\n",
    "    contribution_type=\"progression\", \n",
    "    weight_function=_comp_overlap_coeff, \n",
    "    plot=True,\n",
    ")"
   ]
  },
  {
   "cell_type": "code",
   "execution_count": null,
   "metadata": {
    "scrolled": false
   },
   "outputs": [],
   "source": [
    "_run_test_case(\n",
    "    test_binmat=binmat, \n",
    "    test_conds_worklist=conds_worklist, \n",
    "    test_idx_worklist=idx_worklist, \n",
    "    end_prog=end_prog,\n",
    "    contribution_type=\"progression\", \n",
    "    weight_function=_modified_dice_coefficient_comp, \n",
    "    plot=True\n",
    ")"
   ]
  },
  {
   "cell_type": "code",
   "execution_count": null,
   "metadata": {
    "scrolled": false
   },
   "outputs": [],
   "source": [
    "_run_test_case(\n",
    "    test_binmat=binmat, \n",
    "    test_conds_worklist=conds_worklist, \n",
    "    test_idx_worklist=idx_worklist, \n",
    "    end_prog=end_prog,\n",
    "    contribution_type=\"progression\", \n",
    "    weight_function=_modified_dice_coefficient_pwset, \n",
    "    plot=True\n",
    ")"
   ]
  },
  {
   "cell_type": "code",
   "execution_count": null,
   "metadata": {},
   "outputs": [],
   "source": []
  }
 ],
 "metadata": {
  "kernelspec": {
   "display_name": "Python 3 (ipykernel)",
   "language": "python",
   "name": "python3"
  },
  "language_info": {
   "codemirror_mode": {
    "name": "ipython",
    "version": 3
   },
   "file_extension": ".py",
   "mimetype": "text/x-python",
   "name": "python",
   "nbconvert_exporter": "python",
   "pygments_lexer": "ipython3",
   "version": "3.8.13"
  }
 },
 "nbformat": 4,
 "nbformat_minor": 4
}
