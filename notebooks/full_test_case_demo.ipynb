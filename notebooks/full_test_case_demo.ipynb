{
 "cells": [
  {
   "cell_type": "markdown",
   "metadata": {},
   "source": [
    "---\n",
    "# Initial Imports"
   ]
  },
  {
   "cell_type": "code",
   "execution_count": null,
   "metadata": {},
   "outputs": [],
   "source": [
    "import os\n",
    "\n",
    "print(os.getcwd())\n",
    "os.chdir(\"../src/\")\n",
    "print(os.getcwd())"
   ]
  },
  {
   "cell_type": "code",
   "execution_count": null,
   "metadata": {},
   "outputs": [],
   "source": [
    "import random\n",
    "import time as t\n",
    "from importlib import reload\n",
    "\n",
    "import matplotlib\n",
    "import matplotlib.pyplot as plt\n",
    "import numba\n",
    "import numpy as np\n",
    "import pandas as pd\n",
    "import seaborn as sns\n",
    "\n",
    "%matplotlib inline\n",
    "\n",
    "import build_model\n",
    "import centrality\n",
    "import centrality_utils\n",
    "import utils\n",
    "import weight_functions"
   ]
  },
  {
   "cell_type": "code",
   "execution_count": null,
   "metadata": {},
   "outputs": [],
   "source": [
    "binmat = np.array(\n",
    "    [\n",
    "        [1, 1, 1],\n",
    "        [1, 1, 1],\n",
    "        [1, 1, 1],\n",
    "        [1, 1, 1],\n",
    "        [0, 1, 1],\n",
    "        [0, 1, 0],\n",
    "        [0, 0, 1],\n",
    "        [1, 1, 1],\n",
    "        [1, 1, 0],\n",
    "        [1, 0, 1],\n",
    "    ],\n",
    "    dtype=np.int8,\n",
    ")\n",
    "\n",
    "idx_worklist = np.array(\n",
    "    [\n",
    "        [-1, -1, -1],\n",
    "        [-1, -1, -1],\n",
    "        [-1, -1, -1],\n",
    "        [-1, -1, -1],\n",
    "        [-1, -1, -1],\n",
    "        [-2, -1, -1],\n",
    "        [-2, -1, -1],\n",
    "        [-1, -1, -1],\n",
    "        [-1, -1, -1],\n",
    "        [-1, -1, -1],\n",
    "    ],\n",
    "    dtype=np.int8,\n",
    ")\n",
    "\n",
    "conds_worklist = np.array(\n",
    "    [\n",
    "        [0, 1, 2],\n",
    "        [0, 1, 2],\n",
    "        [0, 1, 2],\n",
    "        [2, 0, 1],\n",
    "        [1, 2, -1],\n",
    "        [1, -1, -1],\n",
    "        [2, -1, -1],\n",
    "        [1, 0, 2],\n",
    "        [1, 0, -1],\n",
    "        [0, 2, -1],\n",
    "    ],\n",
    "    dtype=np.int8,\n",
    ")\n",
    "\n",
    "colarr = np.array([\"A\", \"B\", \"C\"], dtype=\"<U24\")\n",
    "n_diseases = colarr.shape[0]\n",
    "\n",
    "print(binmat)\n",
    "print(conds_worklist)"
   ]
  },
  {
   "cell_type": "markdown",
   "metadata": {},
   "source": [
    "## Compute hyperedge and hyperarc weights"
   ]
  },
  {
   "cell_type": "code",
   "execution_count": null,
   "metadata": {
    "scrolled": false
   },
   "outputs": [],
   "source": [
    "inc_mat, weights, prev_arrs = build_model.compute_weights(\n",
    "    binmat,\n",
    "    conds_worklist,\n",
    "    idx_worklist,\n",
    "    colarr,\n",
    "    \"progression\",  # \"exclusive\",\n",
    "    weight_functions.modified_sorensen_dice_coefficient,\n",
    "    utils.compute_progset,\n",
    "    dice_type=1,\n",
    "    plot=True,\n",
    "    ret_inc_mat=None,\n",
    ")"
   ]
  },
  {
   "cell_type": "code",
   "execution_count": null,
   "metadata": {
    "scrolled": false
   },
   "outputs": [],
   "source": [
    "inc_mat, weights, prev_arrs = build_model.compute_weights(\n",
    "    binmat,\n",
    "    conds_worklist,\n",
    "    idx_worklist,\n",
    "    colarr,\n",
    "    \"progression\",\n",
    "    weight_functions.modified_sorensen_dice_coefficient,\n",
    "    utils.compute_pwset_progset,\n",
    "    dice_type=1,\n",
    "    plot=True,\n",
    "    ret_inc_mat=None,\n",
    ")"
   ]
  },
  {
   "cell_type": "code",
   "execution_count": null,
   "metadata": {
    "scrolled": false
   },
   "outputs": [],
   "source": [
    "inc_mat, weights, prev_arrs = build_model.compute_weights(\n",
    "    binmat,\n",
    "    conds_worklist,\n",
    "    idx_worklist,\n",
    "    colarr,\n",
    "    \"progression\",\n",
    "    weight_functions.modified_sorensen_dice_coefficient,\n",
    "    utils.compute_simple_progset,\n",
    "    dice_type=1,\n",
    "    plot=True,\n",
    "    ret_inc_mat=None,\n",
    ")"
   ]
  },
  {
   "cell_type": "markdown",
   "metadata": {},
   "source": [
    "# Compute Successor and Predecessor Node PageRank Centrality\n",
    "\n",
    "## Compute node and edge degree matrices"
   ]
  },
  {
   "cell_type": "code",
   "execution_count": null,
   "metadata": {
    "scrolled": false
   },
   "outputs": [],
   "source": [
    "inc_mat, weights, prev_arrs = build_model.compute_weights(\n",
    "    binmat,\n",
    "    conds_worklist,\n",
    "    idx_worklist,\n",
    "    colarr,\n",
    "    \"progression\",\n",
    "    weight_functions.modified_sorensen_dice_coefficient,\n",
    "    utils.compute_progset,\n",
    "    dice_type=1,\n",
    "    plot=False,\n",
    "    ret_inc_mat=None,\n",
    ")\n",
    "\n",
    "hyperedge_weights = np.array(weights[0][\"weight\"])\n",
    "hyperedge_titles = np.array(weights[0][\"disease set\"])\n",
    "\n",
    "hyperarc_weights = np.array(weights[1][\"weight\"])\n",
    "hyperarc_titles = np.array(weights[1][\"progression\"])\n",
    "\n",
    "node_weights = np.array(weights[2][\"weight\"])\n",
    "node_titles = np.array(weights[2][\"node\"])"
   ]
  },
  {
   "cell_type": "code",
   "execution_count": null,
   "metadata": {},
   "outputs": [],
   "source": [
    "output = build_model.setup_vars(\n",
    "    inc_mat, n_diseases, hyperarc_weights, hyperarc_titles, node_weights\n",
    ")\n",
    "inc_mat_data, hyperarc_data, node_weights, node_degs, edge_degs = output\n",
    "\n",
    "inc_mat_tail, inc_mat_head = inc_mat_data\n",
    "edge_weights, hyperarc_titles = hyperarc_data\n",
    "node_degree_tail, node_degree_head = node_degs\n",
    "edge_degree_tail, edge_degree_head = edge_degs"
   ]
  },
  {
   "cell_type": "markdown",
   "metadata": {},
   "source": [
    "## Successor Detection"
   ]
  },
  {
   "cell_type": "code",
   "execution_count": null,
   "metadata": {},
   "outputs": [],
   "source": [
    "P_node = centrality.comp_ptm_std(\n",
    "    inc_mat_tail, inc_mat_head, edge_weights, node_degree_tail, None, \"successor\", eps=0\n",
    ")\n",
    "\n",
    "fig, ax = plt.subplots(1, 1, figsize=(10, 8))\n",
    "sns.heatmap(P_node, cmap=\"inferno\", ax=ax, annot=True, annot_kws={\"fontsize\": 16})\n",
    "ax.set_yticklabels(colarr, fontsize=15, rotation=0)\n",
    "ax.set_xticklabels(colarr, fontsize=15, rotation=45)\n",
    "ax.set_title(\"Successor Transition Matrix\", fontsize=18, pad=20)\n",
    "ax.xaxis.tick_top()\n",
    "plt.show()"
   ]
  },
  {
   "cell_type": "code",
   "execution_count": null,
   "metadata": {},
   "outputs": [],
   "source": [
    "inpt = (\n",
    "    (inc_mat_tail, inc_mat_head),\n",
    "    (edge_weights, node_weights),\n",
    "    node_degs,\n",
    "    edge_degree_tail,\n",
    ")\n",
    "node_pagerank = centrality.pagerank_centrality(\n",
    "    inpt,\n",
    "    rep=\"standard\",\n",
    "    typ=\"successor\",\n",
    "    tolerance=1e-6,\n",
    "    max_iterations=1000,\n",
    "    is_irreducible=False,\n",
    "    weight_resultant=False,\n",
    "    random_seed=None,\n",
    "    eps=0.0001,\n",
    ")\n",
    "\n",
    "all_node_sc_evc = pd.DataFrame(\n",
    "    {\n",
    "        \"Disease\": colarr,\n",
    "        \"PageRank Centrality\": node_pagerank,\n",
    "    }\n",
    ")\n",
    "print(f\"PageRank sum: {node_pagerank.sum()}\")\n",
    "succ_order = (\n",
    "    all_node_sc_evc.sort_values(by=\"PageRank Centrality\", ascending=False)\n",
    "    .reset_index(drop=True)\n",
    "    .Disease\n",
    ")\n",
    "all_node_sc_evc.sort_values(by=\"PageRank Centrality\", ascending=False).reset_index(\n",
    "    drop=True\n",
    ").round({\"PageRank Centrality\": 3})"
   ]
  },
  {
   "cell_type": "markdown",
   "metadata": {},
   "source": [
    "## Predecessor Detection"
   ]
  },
  {
   "cell_type": "code",
   "execution_count": null,
   "metadata": {},
   "outputs": [],
   "source": [
    "P_pred_node = centrality.comp_ptm_std(\n",
    "    inc_mat_tail,\n",
    "    inc_mat_head,\n",
    "    edge_weights,\n",
    "    node_degree_head,\n",
    "    edge_degree_tail,\n",
    "    rep=\"predecessor\",\n",
    ")\n",
    "\n",
    "fig, ax = plt.subplots(1, 1, figsize=(10, 8))\n",
    "sns.heatmap(P_pred_node, cmap=\"inferno\", ax=ax, annot=True, annot_kws={\"fontsize\": 16})\n",
    "ax.set_yticklabels(colarr, fontsize=15, rotation=0)\n",
    "ax.set_xticklabels(colarr, fontsize=15, rotation=45)\n",
    "ax.set_title(\"Predecessor Transition Matrix\", fontsize=18, pad=20)\n",
    "ax.xaxis.tick_top()\n",
    "plt.show()"
   ]
  },
  {
   "cell_type": "code",
   "execution_count": null,
   "metadata": {},
   "outputs": [],
   "source": [
    "inpt = (\n",
    "    (inc_mat_tail, inc_mat_head),\n",
    "    (edge_weights, node_weights),\n",
    "    node_degs,\n",
    "    edge_degree_tail,\n",
    ")\n",
    "node_pagerank = centrality.pagerank_centrality(\n",
    "    inpt,\n",
    "    rep=\"standard\",\n",
    "    typ=\"predecessor\",\n",
    "    tolerance=1e-6,\n",
    "    max_iterations=100,\n",
    "    is_irreducible=False,\n",
    "    weight_resultant=False,\n",
    "    random_seed=None,\n",
    "    eps=0.0001,\n",
    ")\n",
    "\n",
    "all_node_pr_evc = pd.DataFrame(\n",
    "    {\n",
    "        \"Disease\": colarr,\n",
    "        \"PageRank Centrality\": node_pagerank,\n",
    "    }\n",
    ")\n",
    "print(f\"PageRank sum: {node_pagerank.sum()}\")\n",
    "pred_order = (\n",
    "    all_node_pr_evc.sort_values(by=\"PageRank Centrality\", ascending=False)\n",
    "    .reset_index(drop=True)\n",
    "    .Disease\n",
    ")\n",
    "all_node_pr_evc.sort_values(by=\"PageRank Centrality\", ascending=False).reset_index(\n",
    "    drop=True\n",
    ").round({\"PageRank Centrality\": 3})"
   ]
  },
  {
   "cell_type": "markdown",
   "metadata": {},
   "source": [
    "# Compute Undirected Representation of Directed Hypergraph\n",
    "\n",
    "## Node Adjacency Matrix"
   ]
  },
  {
   "cell_type": "code",
   "execution_count": null,
   "metadata": {},
   "outputs": [],
   "source": [
    "# Construct incidence matrix for undirected representation of directed hypergraph\n",
    "incidence_matrix = np.concatenate([inc_mat_tail, inc_mat_head], axis=0)"
   ]
  },
  {
   "cell_type": "code",
   "execution_count": null,
   "metadata": {},
   "outputs": [],
   "source": [
    "node_adj = centrality.comp_adjacency(\n",
    "    incidence_matrix,\n",
    "    hyperarc_weights,\n",
    "    node_weights,\n",
    "    rep=\"standard\",\n",
    "    weight_resultant=True,\n",
    ")\n",
    "\n",
    "fig, ax = plt.subplots(1, 1, figsize=(10, 7))\n",
    "sns.heatmap(node_adj, cmap=\"inferno\", ax=ax, annot=True)\n",
    "ax.set_yticks(ax.get_yticks(), node_titles, fontsize=12, rotation=0)\n",
    "ax.set_xticklabels(node_titles, fontsize=12, rotation=45, ha=\"left\")\n",
    "ax.xaxis.tick_top()\n",
    "plt.show()"
   ]
  },
  {
   "cell_type": "code",
   "execution_count": null,
   "metadata": {},
   "outputs": [],
   "source": [
    "node_centrality = centrality.eigenvector_centrality(\n",
    "    incidence_matrix,\n",
    "    hyperarc_weights,\n",
    "    node_weights,\n",
    "    rep=\"standard\",\n",
    "    tolerance=1e-6,\n",
    "    max_iterations=1000,\n",
    "    weight_resultant=True,\n",
    "    random_seed=None,\n",
    ")\n",
    "node_evc = pd.DataFrame(\n",
    "    {\n",
    "        \"Disease\": node_titles,\n",
    "        \"Eigenvector Centrality\": node_centrality,\n",
    "    }\n",
    ")\n",
    "node_evc.sort_values(by=\"Eigenvector Centrality\", ascending=False).reset_index(\n",
    "    drop=True\n",
    ")"
   ]
  },
  {
   "cell_type": "markdown",
   "metadata": {},
   "source": [
    "## Edge Adjacency Matrix\n",
    "\n",
    "### Connective Adjacency"
   ]
  },
  {
   "cell_type": "code",
   "execution_count": null,
   "metadata": {},
   "outputs": [],
   "source": [
    "edge_adj = centrality.comp_adjacency(\n",
    "    incidence_matrix, hyperarc_weights, node_weights, rep=\"dual\", weight_resultant=True\n",
    ")\n",
    "\n",
    "fig, ax = plt.subplots(1, 1, figsize=(10, 7))\n",
    "sns.heatmap(edge_adj, cmap=\"inferno\", ax=ax, annot=True)\n",
    "ax.set_yticks(ax.get_yticks(), hyperarc_titles, fontsize=12, rotation=0)\n",
    "ax.set_xticklabels(hyperarc_titles, fontsize=12, rotation=45, ha=\"left\")\n",
    "ax.xaxis.tick_top()\n",
    "plt.show()"
   ]
  },
  {
   "cell_type": "code",
   "execution_count": null,
   "metadata": {},
   "outputs": [],
   "source": [
    "hyperarc_centrality = centrality.eigenvector_centrality(\n",
    "    incidence_matrix,\n",
    "    hyperarc_weights,\n",
    "    node_weights,\n",
    "    rep=\"dual\",\n",
    "    tolerance=1e-6,\n",
    "    max_iterations=1000,\n",
    "    weight_resultant=False,\n",
    "    random_seed=None,\n",
    ")\n",
    "\n",
    "n_conds = n_diseases * [1] + [\n",
    "    len(d.split(\",\")) + 1 for d in hyperarc_titles[n_diseases:]\n",
    "]\n",
    "hyperarc_evc = pd.DataFrame(\n",
    "    {\n",
    "        \"Disease\": hyperarc_titles,\n",
    "        \"Degree\": n_conds,\n",
    "        \"Eigenvector Centrality\": hyperarc_centrality,\n",
    "    }\n",
    ")\n",
    "hyperarc_evc.sort_values(by=\"Eigenvector Centrality\", ascending=False).reset_index(\n",
    "    drop=True\n",
    ")"
   ]
  },
  {
   "cell_type": "markdown",
   "metadata": {},
   "source": [
    "### Progressive Adjacency"
   ]
  },
  {
   "cell_type": "code",
   "execution_count": null,
   "metadata": {},
   "outputs": [],
   "source": [
    "# This includes the head node into the tail to convert hyperarc A, B -> C to A, B, C -> C. This is so the hyperarc\n",
    "# adjacency matrix will now measure strength of connection by not only matching the tail-head combination of hyperarcs\n",
    "# together, but also matching those hyperarcs which feed into higher degree hyperarcs too. Note the difference in\n",
    "# adjacency strength between A -> B and A, B -> C in the following setup in comparison to above.\n",
    "new_inc_mat_tail = inc_mat_tail + inc_mat_head\n",
    "new_inc_mat_tail[new_inc_mat_tail > 1] = 1\n",
    "edge_incidence_matrix = np.concatenate([new_inc_mat_tail, inc_mat_head], axis=0)"
   ]
  },
  {
   "cell_type": "code",
   "execution_count": null,
   "metadata": {},
   "outputs": [],
   "source": [
    "edge_adj = centrality.comp_adjacency(\n",
    "    edge_incidence_matrix,\n",
    "    hyperarc_weights,\n",
    "    node_weights,\n",
    "    rep=\"dual\",\n",
    "    weight_resultant=True,\n",
    ")\n",
    "\n",
    "fig, ax = plt.subplots(1, 1, figsize=(10, 7))\n",
    "sns.heatmap(edge_adj, cmap=\"inferno\", ax=ax, annot=True)\n",
    "ax.set_yticks(ax.get_yticks(), hyperarc_titles, fontsize=12, rotation=0)\n",
    "ax.set_xticklabels(hyperarc_titles, fontsize=12, rotation=45, ha=\"left\")\n",
    "ax.xaxis.tick_top()\n",
    "plt.show()"
   ]
  },
  {
   "cell_type": "code",
   "execution_count": null,
   "metadata": {},
   "outputs": [],
   "source": [
    "hyperarc_centrality = centrality.eigenvector_centrality(\n",
    "    edge_incidence_matrix,\n",
    "    hyperarc_weights,\n",
    "    node_weights,\n",
    "    rep=\"dual\",\n",
    "    tolerance=1e-6,\n",
    "    max_iterations=1000,\n",
    "    weight_resultant=True,\n",
    "    random_seed=None,\n",
    ")\n",
    "\n",
    "n_conds = n_diseases * [1] + [\n",
    "    len(d.split(\",\")) + 1 for d in hyperarc_titles[n_diseases:]\n",
    "]\n",
    "hyperarc_evc = pd.DataFrame(\n",
    "    {\n",
    "        \"Disease\": hyperarc_titles,\n",
    "        \"Degree\": n_conds,\n",
    "        \"Eigenvector Centrality\": hyperarc_centrality,\n",
    "    }\n",
    ")\n",
    "hyperarc_evc.sort_values(by=\"Eigenvector Centrality\", ascending=False).reset_index(\n",
    "    drop=True\n",
    ")"
   ]
  },
  {
   "cell_type": "code",
   "execution_count": null,
   "metadata": {},
   "outputs": [],
   "source": [
    "degrees = []\n",
    "top_progressions = pd.DataFrame(columns=[\"Disease\", \"Degree\", \"Eigenvector Centrality\"])\n",
    "for i, row in hyperarc_evc.sort_values(\n",
    "    by=\"Eigenvector Centrality\", ascending=False\n",
    ").iterrows():\n",
    "    dis, deg, cent = row\n",
    "    if deg not in degrees:\n",
    "        degrees.append(deg)\n",
    "        top_progressions = pd.concat([top_progressions, pd.DataFrame(row).T], axis=0)\n",
    "top_progressions.reset_index(drop=True)"
   ]
  },
  {
   "cell_type": "markdown",
   "metadata": {},
   "source": [
    "### Multimorbidity pathway plot using progressive edge adjacency"
   ]
  },
  {
   "cell_type": "code",
   "execution_count": null,
   "metadata": {},
   "outputs": [],
   "source": [
    "# Extract top top_n hyperarcs for up to max_d-degree hyperarcs\n",
    "top_n = 3\n",
    "top_progressions = pd.DataFrame()\n",
    "max_d = 3\n",
    "\n",
    "for deg in range(1, max_d + 1):\n",
    "    deg_hyperarc_evc = hyperarc_evc[hyperarc_evc.Degree == deg].sort_values(\n",
    "        by=\"Eigenvector Centrality\", ascending=False, axis=0\n",
    "    )\n",
    "    top_progressions = pd.concat(\n",
    "        [top_progressions, deg_hyperarc_evc.iloc[:top_n]], axis=0\n",
    "    )\n",
    "top_progressions.reset_index(drop=True).sort_values(by=\"Degree\", ascending=True, axis=0)"
   ]
  },
  {
   "cell_type": "code",
   "execution_count": null,
   "metadata": {},
   "outputs": [],
   "source": [
    "# Sort indexing out for plot and rename self-transitiongs to original disease title\n",
    "rank_progressions = top_progressions.copy(deep=True)\n",
    "rank_progressions.index = (max_d * [i for i in range(top_n)])[\n",
    "    : rank_progressions.shape[0]\n",
    "]\n",
    "rank_progressions.reset_index(inplace=True)\n",
    "rank_progressions[\"Disease\"] = [\n",
    "    prog.split(\" -> \")[0] if (prog.split(\" -> \")[0] == prog.split(\" -> \")[1]) else prog\n",
    "    for prog in rank_progressions.Disease\n",
    "]\n",
    "rank_progressions"
   ]
  },
  {
   "cell_type": "code",
   "execution_count": null,
   "metadata": {},
   "outputs": [],
   "source": [
    "# populate list for every hyperarc where they feed into hyperarcs of degree above\n",
    "# for plotting purposes below\n",
    "prog_idx_lists = []\n",
    "\n",
    "# Loop over degrees\n",
    "for deg in range(1, max_d):\n",
    "\n",
    "    # Extract degree specific top ranking hyperarcs\n",
    "    deg_dis_progs = rank_progressions[rank_progressions.Degree == deg].reset_index(\n",
    "        drop=True\n",
    "    )\n",
    "    lst_idx = deg - 1\n",
    "    n_degs = deg_dis_progs.shape[0]\n",
    "\n",
    "    # Initialise list of lists for each top ranking hyperarc of that degree\n",
    "    prog_idx_lists.append([[] for i in range(n_degs)])\n",
    "\n",
    "    # Loop over these top ranking hyperarc of degree deg\n",
    "    for deg_dis_prog in deg_dis_progs.iterrows():\n",
    "        i, (idx, dis_prog, dis_deg, eig_cent) = deg_dis_prog\n",
    "\n",
    "        # If not a self-transition, extract tail members and head member\n",
    "        if deg != 1:\n",
    "            prog_tail = dis_prog.split(\" -> \")[0].split(\", \")\n",
    "            prog_head = dis_prog.split(\" -> \")[1]\n",
    "            prog_dis = np.sort(prog_tail + [prog_head])\n",
    "\n",
    "        # Otherwise, just extract whole progression as it's one disease\n",
    "        else:\n",
    "            prog_dis = dis_prog\n",
    "\n",
    "        # Extract all top ranking hyperarcs of the degree above\n",
    "        degabove_dis_progs = rank_progressions[\n",
    "            rank_progressions.Degree == dis_deg + 1\n",
    "        ].Disease\n",
    "\n",
    "        # Loop over these top ranking hyperarcs of the degree above, check if their tail set matches\n",
    "        # the prog_dis of above, append ranking index to the corresponding list in prog_idx_lists\n",
    "        for j, degabove_dis in enumerate(degabove_dis_progs):\n",
    "            degabove_tail = np.sort(degabove_dis.split(\" -> \")[0].split(\", \"))\n",
    "            if np.all(prog_dis == degabove_tail):\n",
    "                prog_idx_lists[lst_idx][i].append(j)"
   ]
  },
  {
   "cell_type": "code",
   "execution_count": null,
   "metadata": {},
   "outputs": [],
   "source": [
    "# Line differentiation and progression line colour differentiation\n",
    "linestyle_lsts = list(matplotlib.lines.lineStyles.keys())[:4]\n",
    "prog_colors = list(plt.get_cmap(\"nipy_spectral\")(np.linspace(0.1, 0.9, max_d)))\n",
    "\n",
    "# Plot progressions\n",
    "sq_s = 10\n",
    "fig, ax = plt.subplots(1, 1, figsize=(sq_s, sq_s))\n",
    "sns.scatterplot(\n",
    "    y=\"index\",\n",
    "    x=\"Degree\",\n",
    "    hue=\"Disease\",\n",
    "    s=200,\n",
    "    marker=\"o\",\n",
    "    data=rank_progressions,\n",
    "    ax=ax,\n",
    "    legend=False,\n",
    ")\n",
    "ax.set_ylabel(\"Progression Rank\", fontsize=15)\n",
    "ax.set_xlabel(\"Hyperarc Degree\", fontsize=15)\n",
    "ax.set_yticks(np.arange(top_n))\n",
    "ax.set_xticks(np.arange(1, max_d + 1))\n",
    "ax.set_xticklabels(np.arange(1, max_d + 1), fontsize=15)\n",
    "ax.set_yticklabels(np.arange(1, top_n + 1), fontsize=15)\n",
    "ax.axis([0, max_d + 1, top_n, -1])\n",
    "ax.grid(\"on\")\n",
    "\n",
    "# Include lines to represent degree-to-degree progressions\n",
    "for i, deg_lst in enumerate(prog_idx_lists):\n",
    "    for j, idx_list in enumerate(deg_lst):\n",
    "        for idx in idx_list:\n",
    "            plt.plot(\n",
    "                [i + 1, i + 2],\n",
    "                [j, idx],\n",
    "                linestyle=linestyle_lsts[j % len(linestyle_lsts)],\n",
    "                c=prog_colors[i],\n",
    "                linewidth=2,\n",
    "            )\n",
    "\n",
    "# Annotate progressions\n",
    "for i, dis in enumerate(rank_progressions.Disease):\n",
    "    row = rank_progressions.iloc[i]\n",
    "    deg, idx = (row[\"Degree\"], row[\"index\"])\n",
    "    n_dis = len(dis)\n",
    "    plt.annotate(\n",
    "        dis, (deg - (0.5 / 10) * (n_dis / 2), idx - 0.15), fontsize=int(1.5 * sq_s)\n",
    "    )\n",
    "\n",
    "fig.tight_layout()\n",
    "plt.show()"
   ]
  },
  {
   "cell_type": "code",
   "execution_count": null,
   "metadata": {},
   "outputs": [],
   "source": []
  }
 ],
 "metadata": {
  "kernelspec": {
   "display_name": "Python 3 (ipykernel)",
   "language": "python",
   "name": "python3"
  },
  "language_info": {
   "codemirror_mode": {
    "name": "ipython",
    "version": 3
   },
   "file_extension": ".py",
   "mimetype": "text/x-python",
   "name": "python",
   "nbconvert_exporter": "python",
   "pygments_lexer": "ipython3",
   "version": "3.8.13"
  },
  "vscode": {
   "interpreter": {
    "hash": "87df49e4139fa7c589c7e12170a910d2daa53aa90a61764ddb79e4d63ffec2b1"
   }
  }
 },
 "nbformat": 4,
 "nbformat_minor": 4
}
